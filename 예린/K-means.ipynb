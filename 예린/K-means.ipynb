{
 "cells": [
  {
   "cell_type": "code",
   "execution_count": null,
   "id": "16fb7afd",
   "metadata": {},
   "outputs": [],
   "source": [
    "import numpy as np\n",
    "import pandas as pd\n",
    "import matplotlib.pyplot as plt\n",
    "import seaborn as sns\n",
    "import os\n",
    "from sklearn.cluster import KMeans\n",
    "import warnings\n",
    "warnings.filterwarnings('ignore')           # Turn off the warnings. \n",
    "%matplotlib inline"
   ]
  },
  {
   "cell_type": "code",
   "execution_count": null,
   "id": "ad983da4",
   "metadata": {},
   "outputs": [],
   "source": [
    "# kmeans 메모리 누수를 방지하기 위한 설정.\n",
    "os.environ['OMP_NUM_THREADS']='1'"
   ]
  },
  {
   "cell_type": "code",
   "execution_count": null,
   "id": "6cfa9e6e",
   "metadata": {},
   "outputs": [],
   "source": [
    "import matplotlib.font_manager as fm\n",
    "# 한글 폰트 설정 (Windows의 경우 예시)\n",
    "font_path = 'C:/Windows/Fonts/malgun.ttf'  # 'Malgun Gothic' 폰트 경로\n",
    "font_name = fm.FontProperties(fname=font_path).get_name()\n",
    "plt.rc('font', family=font_name)"
   ]
  },
  {
   "cell_type": "code",
   "execution_count": null,
   "id": "feadf1dd",
   "metadata": {},
   "outputs": [],
   "source": [
    "csv_file_path = pd.read_csv('C:/Users/yellni/Desktop/XX401/Data/인구_교통_전기차_충전소_타입_앵커시설_fin.csv')                                 \n",
    "#df.head()\n",
    "csv_file_path.head()"
   ]
  },
  {
   "cell_type": "code",
   "execution_count": null,
   "id": "6b1b913c",
   "metadata": {},
   "outputs": [],
   "source": [
    "import pandas as pd\n",
    "from sklearn.cluster import KMeans\n",
    "import matplotlib.pyplot as plt\n",
    "\n",
    "# CSV 파일 경로 설정\n",
    "csv_file_path = 'C:/Users/yellni/Desktop/XX401/Data/인구_교통_전기차_충전소_타입_앵커시설_fin.csv'\n",
    "\n",
    "# 필요한 열만 선택하여 데이터프레임으로 읽기\n",
    "columns_to_select = [\"총 인구수\", \"총출근발생량\", \"전기차 수\",\"완속\",\"앵커시설\", \"충전소 개수\"]\n",
    "df = pd.read_csv(csv_file_path)\n",
    "x=df[columns_to_select]\n",
    "\n",
    "# KMeans 클러스터링\n",
    "kmeans = KMeans(n_clusters=4)  \n",
    "df['클러스터'] = kmeans.fit_predict(x)\n",
    "\n",
    "# 클러스터링 결과 출력\n",
    "print(x)\n",
    "\n",
    "# 클러스터링 결과 시각화\n",
    "plt.scatter(df['총 인구수'], df['총출근발생량'],c=df['클러스터'], cmap='RdYlBu')  #Spectral: 여러색 변경\n",
    "plt.title('K-Means Clustering')\n",
    "plt.show()"
   ]
  },
  {
   "cell_type": "code",
   "execution_count": null,
   "id": "2a025478",
   "metadata": {},
   "outputs": [],
   "source": [
    "# 군집의 수를 키워가며 Sum of Squares Within (~ Internal Sum of Squares)을 계산한다.\n",
    "ssw = []\n",
    "cluster_ns = range(2,16)\n",
    "for n in cluster_ns:\n",
    "    my_cluster = KMeans(n)\n",
    "    my_cluster.fit(x)\n",
    "    ssw.append(my_cluster.inertia_)         # SSW를 모아둔다.\n",
    "\n",
    "plt.figure(figsize = (6,6))\n",
    "plt.plot(cluster_ns, ssw)\n",
    "plt.title('Elbow Method')\n",
    "plt.xlabel('Number of Clusters')\n",
    "plt.ylabel('Sum of Squares Within')\n",
    "plt.show()"
   ]
  },
  {
   "cell_type": "code",
   "execution_count": null,
   "id": "a05c42b2",
   "metadata": {},
   "outputs": [],
   "source": [
    "from sklearn.decomposition import PCA  \n",
    "# 주성분 분석 (PCA)를 활용한 차원축소 (2차원).\n",
    "my_pca = PCA(n_components = 2)   \n",
    "transformed_comps = my_pca.fit_transform(x)         # Transformed 된 좌표.\n",
    "df_transformed_comps = pd.DataFrame(data = transformed_comps, columns = ['PC1', 'PC2'])  # PC = Principal Component = 주성분.\n",
    "#df_transformed_comps.head(10)\n",
    "df_transformed_comps=df_transformed_comps.join(pd.Series(df['클러스터'], name='cluster_label'))\n",
    "df_transformed_comps.head(10)"
   ]
  },
  {
   "cell_type": "code",
   "execution_count": null,
   "id": "811b2b34",
   "metadata": {},
   "outputs": [],
   "source": [
    "# 산점도 시각화.\n",
    "my_colors = {0:'red',1:'blue',2:'purple',3:'green'}    # 군집 label => Color.\n",
    "#my_names = {0: 'Moderate unknwons.', 1: 'Social minimalists.', 2: 'Overseas.', 3: 'Hyper-mobile and hyper-social.'} # 군집 label => 명칭.\n",
    "\n",
    "plt.figure(figsize = (6,6))\n",
    "for a_cluster_n, df_small in df_transformed_comps.groupby('cluster_label'):\n",
    "#    plt.scatter('PC1', 'PC2', data = df_small, c = my_colors[a_cluster_n], label = my_names[a_cluster_n], s = 10, alpha=0.6 )\n",
    "    plt.scatter(df_small['PC1'], df_small['PC2'], c = my_colors[a_cluster_n], s=10, alpha=0.6, marker=\"s\" ) # label = my_names[a_cluster_n]\n",
    "\n",
    "plt.xlabel('PC1')\n",
    "plt.ylabel('PC2')\n",
    "plt.title('K-means')\n",
    "plt.legend(loc=\"lower right\")\n",
    "plt.show()"
   ]
  },
  {
   "cell_type": "code",
   "execution_count": null,
   "id": "904fe3be",
   "metadata": {},
   "outputs": [],
   "source": [
    "import json\n",
    "import folium\n",
    "\n",
    "# 경기도 지도 만들기\n",
    "g_map = folium.Map(location=[37.5502, 126.982], zoom_start=9)\n",
    "g_map"
   ]
  },
  {
   "cell_type": "code",
   "execution_count": null,
   "id": "cd271e54",
   "metadata": {},
   "outputs": [],
   "source": [
    "pip install geopandas folium"
   ]
  },
  {
   "cell_type": "code",
   "execution_count": null,
   "id": "2cdb5c09",
   "metadata": {},
   "outputs": [],
   "source": [
    "import json\n",
    "import folium\n",
    "\n",
    "with open('C:/Users/yellni/Desktop/XX401/Data/HangJeongDong_ver20230701.geojson',encoding='utf-8') as response:\n",
    "    geo_json = json.load(response)\n",
    "\n",
    "# 경기도 시군구 경계 정보를 가진 geo-json 파일 불러오기\n",
    "# 경기도 행정구역 경계 지리 정보를 사용\n",
    "\n",
    "geo_json"
   ]
  },
  {
   "cell_type": "code",
   "execution_count": null,
   "id": "36ac6203",
   "metadata": {},
   "outputs": [],
   "source": [
    "g_map = folium.Map(location=[37.5502, 126.982], zoom_start=9)\n",
    "g_map"
   ]
  },
  {
   "cell_type": "code",
   "execution_count": null,
   "id": "8aeaa443",
   "metadata": {},
   "outputs": [],
   "source": [
    "folium.Choropleth(\n",
    "    geo_data=geo_json,\n",
    "    data=clustered_df,\n",
    "    columns=['시군구', '클러스터'],\n",
    "    key_on=\"properties.sggnm\",\n",
    "    nan_fill_color='white',\n",
    "    nan_fill_opacity=0.0,\n",
    "    fill_opacity=0.7,  # 색 투명도\n",
    "    line_opacity=0.0,  # 선 투명도\n",
    "    legend_name='클러스터',  # 범례\n",
    "    fill_color='Set2'\n",
    ").add_to(g_map)\n",
    "\n",
    "# 지도 출력\n",
    "g_map.save('C:/Users/yellni/Desktop/XX401/Data/경기도_클러스터링_결과_Set2.html')\n",
    "g_map"
   ]
  }
 ],
 "metadata": {
  "kernelspec": {
   "display_name": "Python 3 (ipykernel)",
   "language": "python",
   "name": "python3"
  },
  "language_info": {
   "codemirror_mode": {
    "name": "ipython",
    "version": 3
   },
   "file_extension": ".py",
   "mimetype": "text/x-python",
   "name": "python",
   "nbconvert_exporter": "python",
   "pygments_lexer": "ipython3",
   "version": "3.11.7"
  }
 },
 "nbformat": 4,
 "nbformat_minor": 5
}
